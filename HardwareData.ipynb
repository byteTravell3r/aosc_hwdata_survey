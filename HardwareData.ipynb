{
 "cells": [
  {
   "metadata": {
    "ExecuteTime": {
     "end_time": "2025-04-20T05:22:39.170872Z",
     "start_time": "2025-04-20T05:22:39.165866Z"
    }
   },
   "cell_type": "code",
   "source": "",
   "id": "33d9674c895077cc",
   "outputs": [],
   "execution_count": 3
  },
  {
   "metadata": {
    "ExecuteTime": {
     "end_time": "2025-04-20T05:22:39.197929Z",
     "start_time": "2025-04-20T05:22:39.193855Z"
    }
   },
   "cell_type": "code",
   "source": "",
   "id": "9ae037f02f0fc2f3",
   "outputs": [],
   "execution_count": null
  }
 ],
 "metadata": {
  "kernelspec": {
   "display_name": "Python 3",
   "language": "python",
   "name": "python3"
  },
  "language_info": {
   "codemirror_mode": {
    "name": "ipython",
    "version": 2
   },
   "file_extension": ".py",
   "mimetype": "text/x-python",
   "name": "python",
   "nbconvert_exporter": "python",
   "pygments_lexer": "ipython2",
   "version": "2.7.6"
  }
 },
 "nbformat": 4,
 "nbformat_minor": 5
}
