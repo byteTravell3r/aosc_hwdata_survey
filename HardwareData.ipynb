{
 "cells": [
  {
   "metadata": {
    "ExecuteTime": {
     "end_time": "2025-04-29T04:53:10.321513Z",
     "start_time": "2025-04-29T04:53:10.301883Z"
    }
   },
   "cell_type": "code",
   "source": "",
   "id": "33d9674c895077cc",
   "outputs": [
    {
     "ename": "ImportError",
     "evalue": "cannot import name 'search_pci_linuxhardware' from 'online_info_checker' (C:\\Users\\byte\\Documents\\GitHub\\HardwareData\\online_info_checker.py)",
     "output_type": "error",
     "traceback": [
      "\u001B[31m---------------------------------------------------------------------------\u001B[39m",
      "\u001B[31mImportError\u001B[39m                               Traceback (most recent call last)",
      "\u001B[36mCell\u001B[39m\u001B[36m \u001B[39m\u001B[32mIn[16]\u001B[39m\u001B[32m, line 2\u001B[39m\n\u001B[32m      1\u001B[39m \u001B[38;5;28;01mimport\u001B[39;00m\u001B[38;5;250m \u001B[39m\u001B[34;01mopenpyxl\u001B[39;00m\n\u001B[32m----> \u001B[39m\u001B[32m2\u001B[39m \u001B[38;5;28;01mfrom\u001B[39;00m\u001B[38;5;250m \u001B[39m\u001B[34;01monline_info_checker\u001B[39;00m\u001B[38;5;250m \u001B[39m\u001B[38;5;28;01mimport\u001B[39;00m search_pci_linuxhardware, search_pci_driverscollection\n",
      "\u001B[31mImportError\u001B[39m: cannot import name 'search_pci_linuxhardware' from 'online_info_checker' (C:\\Users\\byte\\Documents\\GitHub\\HardwareData\\online_info_checker.py)"
     ]
    }
   ],
   "execution_count": 16
  },
  {
   "metadata": {
    "ExecuteTime": {
     "end_time": "2025-04-29T04:52:56.429741Z",
     "start_time": "2025-04-29T04:52:56.390696Z"
    }
   },
   "cell_type": "code",
   "source": "",
   "id": "83479b9fa8536b6f",
   "outputs": [
    {
     "ename": "NameError",
     "evalue": "name 'search_pci_linuxhardware' is not defined",
     "output_type": "error",
     "traceback": [
      "\u001B[31m---------------------------------------------------------------------------\u001B[39m",
      "\u001B[31mNameError\u001B[39m                                 Traceback (most recent call last)",
      "\u001B[36mCell\u001B[39m\u001B[36m \u001B[39m\u001B[32mIn[15]\u001B[39m\u001B[32m, line 14\u001B[39m\n\u001B[32m     12\u001B[39m \u001B[38;5;28;01mfor\u001B[39;00m block \u001B[38;5;129;01min\u001B[39;00m pcie_data_list:\n\u001B[32m     13\u001B[39m     pci_id = block.value\n\u001B[32m---> \u001B[39m\u001B[32m14\u001B[39m     search_pci_linuxhardware(pci_id)\n",
      "\u001B[31mNameError\u001B[39m: name 'search_pci_linuxhardware' is not defined"
     ]
    }
   ],
   "execution_count": 15
  },
  {
   "metadata": {
    "ExecuteTime": {
     "end_time": "2025-04-20T05:22:39.197929Z",
     "start_time": "2025-04-20T05:22:39.193855Z"
    }
   },
   "cell_type": "code",
   "source": "",
   "id": "9ae037f02f0fc2f3",
   "outputs": [],
   "execution_count": null
  }
 ],
 "metadata": {
  "kernelspec": {
   "display_name": "Python 3",
   "language": "python",
   "name": "python3"
  },
  "language_info": {
   "codemirror_mode": {
    "name": "ipython",
    "version": 2
   },
   "file_extension": ".py",
   "mimetype": "text/x-python",
   "name": "python",
   "nbconvert_exporter": "python",
   "pygments_lexer": "ipython2",
   "version": "2.7.6"
  }
 },
 "nbformat": 4,
 "nbformat_minor": 5
}
